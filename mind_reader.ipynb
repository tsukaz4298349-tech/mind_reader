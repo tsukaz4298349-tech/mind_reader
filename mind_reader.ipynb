{
 "cells": [
  {
   "cell_type": "code",
   "execution_count": 10,
   "id": "c1d6e46d-eeed-46a0-8f03-168e07db0a0e",
   "metadata": {},
   "outputs": [
    {
     "name": "stdout",
     "output_type": "stream",
     "text": [
      "1から100までの間で好きな数字を1つ思い浮かべてください。\n",
      "あなたの考えている数字を7回以内に当ててみましょう。\n",
      "正解ならEnterキーのみ押してください。\n",
      "1 100\n",
      "あなたの数字は 50 より大きいですか？(yes/no)\n"
     ]
    },
    {
     "name": "stdin",
     "output_type": "stream",
     "text": [
      " no\n"
     ]
    },
    {
     "name": "stdout",
     "output_type": "stream",
     "text": [
      "あなたの数字は 25 より大きいですか？(yes/no)\n"
     ]
    },
    {
     "name": "stdin",
     "output_type": "stream",
     "text": [
      " \n"
     ]
    },
    {
     "name": "stdout",
     "output_type": "stream",
     "text": [
      "あなたの考えている数字は 25 ですね!\n"
     ]
    }
   ],
   "source": [
    "print(\"1から100までの間で好きな数字を1つ思い浮かべてください。\")\n",
    "print(\"あなたの考えている数字を7回以内に当ててみましょう。\")\n",
    "print(\"正解ならEnterキーのみ押してください。\")\n",
    "# low:最小の数値,high:最大の数値\n",
    "low=1\n",
    "high=100\n",
    "print(low,high)\n",
    "\n",
    "for i in range(7):\n",
    "    #lowとhighが同じならループを抜ける\n",
    "    if low == high:\n",
    "        break\n",
    "        \n",
    "    #コンピューターの推測値を確認\n",
    "    guess=(low+high)//2\n",
    "    print(\"あなたの数字は\",guess,\"より大きいですか？(yes/no)\")\n",
    "    answer=input()\n",
    "\n",
    "    #空Enterで正解表示して終了\n",
    "    if answer==\"\":\n",
    "        low=guess\n",
    "        break\n",
    "\n",
    "    #ユーザーの答えにより分岐\n",
    "    if answer==\"yes\":\n",
    "        low=guess + 1\n",
    "    else:\n",
    "        high=guess\n",
    "\n",
    "print(\"あなたの考えている数字は\", low,\"ですね!\")"
   ]
  },
  {
   "cell_type": "code",
   "execution_count": null,
   "id": "2ae891e1-e2ae-41fd-931a-52dc2cce1c7c",
   "metadata": {},
   "outputs": [],
   "source": []
  }
 ],
 "metadata": {
  "kernelspec": {
   "display_name": "Python 3 (ipykernel)",
   "language": "python",
   "name": "python3"
  },
  "language_info": {
   "codemirror_mode": {
    "name": "ipython",
    "version": 3
   },
   "file_extension": ".py",
   "mimetype": "text/x-python",
   "name": "python",
   "nbconvert_exporter": "python",
   "pygments_lexer": "ipython3",
   "version": "3.13.3"
  }
 },
 "nbformat": 4,
 "nbformat_minor": 5
}
